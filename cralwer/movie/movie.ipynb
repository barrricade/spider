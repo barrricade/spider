{
 "cells": [
  {
   "cell_type": "code",
   "execution_count": 1,
   "metadata": {},
   "outputs": [],
   "source": [
    "from bs4 import BeautifulSoup\n",
    "import requests\n",
    "import elasticsearch_dsl\n",
    "from elasticsearch import Elasticsearch"
   ]
  },
  {
   "cell_type": "code",
   "execution_count": 2,
   "metadata": {},
   "outputs": [],
   "source": [
    "url = \"http://dianying.2345.com/top/\"\n",
    "page = requests.get(url,timeout=40)\n",
    "page.encoding = page.apparent_encoding"
   ]
  },
  {
   "cell_type": "code",
   "execution_count": 3,
   "metadata": {},
   "outputs": [],
   "source": [
    "soup = BeautifulSoup(page.text, features=\"lxml\")"
   ]
  },
  {
   "cell_type": "code",
   "execution_count": 114,
   "metadata": {},
   "outputs": [
    {
     "data": {
      "text/plain": [
       "<li>\n",
       "<div class=\"pic\">\n",
       "<img alt=\"双子杀手\" height=\"173\" onerror=\"javascript:this.src='//imgwx4.2345.com/dypcimg/tv/newimages/default_poster.jpg'\" src=\"//imgwx4.2345.com/dypcimg/img/8/68/sup205595_223x310.jpg\" title=\"双子杀手\" width=\"130\"/>\n",
       "<i class=\"iNum\"><em>TOP</em>4</i>\n",
       "<a class=\"aPlayBtn\" href=\"//dianying.2345.com/detail/205595.html\" target=\"_blank\" title=\"双子杀手\"><i></i></a>\n",
       "</div>\n",
       "<div class=\"txt\">\n",
       "<p class=\"pTit\"><span class=\"sTit\"><a href=\"//dianying.2345.com/detail/205595.html\" target=\"_blank\">双子杀手</a></span>\n",
       "</p>\n",
       "<p class=\"pActor\">主演：\n",
       "                                                                    <a href=\"//www.baidu.com/s?word=威尔・史密斯&amp;tn=25017023_oem_dg\" target=\"_blank\" title=\"威尔・史密斯\">威尔・史密斯</a>\n",
       "<a href=\"//www.baidu.com/s?word=玛丽・伊丽莎白・温斯泰德&amp;tn=25017023_oem_dg\" target=\"_blank\" title=\"玛丽・伊丽莎白・温斯泰德\">玛丽・伊丽莎白・温斯泰德</a>\n",
       "<a href=\"//www.baidu.com/s?word=克里夫・欧文&amp;tn=25017023_oem_dg\" target=\"_blank\" title=\"克里夫・欧文\">克里夫・欧文</a>\n",
       "</p>\n",
       "<p class=\"pTxt pIntroShow\">简介：美国国防情报局特工亨利，准备退休之际意外遭到一名神秘杀手的追杀，在两人的激烈较量中，他发现这名杀手竟然是年轻了20多岁的自己，一场我与我的对决旋即展开，而背后的真相也逐渐浮出水面。</p>\n",
       "</div>\n",
       "</li>"
      ]
     },
     "execution_count": 114,
     "metadata": {},
     "output_type": "execute_result"
    }
   ],
   "source": [
    "soup.find_all(\"li\")[4]"
   ]
  },
  {
   "cell_type": "code",
   "execution_count": 119,
   "metadata": {},
   "outputs": [],
   "source": [
    "a = soup.find_all('li')[4]"
   ]
  },
  {
   "cell_type": "code",
   "execution_count": 120,
   "metadata": {},
   "outputs": [],
   "source": [
    "b = a.find('div',class_='txt')"
   ]
  },
  {
   "cell_type": "code",
   "execution_count": 132,
   "metadata": {},
   "outputs": [
    {
     "data": {
      "text/plain": [
       "'双子杀手'"
      ]
     },
     "execution_count": 132,
     "metadata": {},
     "output_type": "execute_result"
    }
   ],
   "source": [
    "b.find('span').text"
   ]
  },
  {
   "cell_type": "code",
   "execution_count": 83,
   "metadata": {},
   "outputs": [],
   "source": [
    "c = b.find('c')"
   ]
  },
  {
   "cell_type": "code",
   "execution_count": 88,
   "metadata": {},
   "outputs": [
    {
     "data": {
      "text/plain": [
       "'//dianying.2345.com/detail/203952.html'"
      ]
     },
     "execution_count": 88,
     "metadata": {},
     "output_type": "execute_result"
    }
   ],
   "source": [
    "c.get('href',\"\")"
   ]
  },
  {
   "cell_type": "code",
   "execution_count": 79,
   "metadata": {},
   "outputs": [
    {
     "data": {
      "text/plain": [
       "'//imgwx2.2345.com/dypcimg/img/3/67/sup203952_223x310.jpg?1569826301'"
      ]
     },
     "execution_count": 79,
     "metadata": {},
     "output_type": "execute_result"
    }
   ],
   "source": [
    "b.find('img').get('src')"
   ]
  },
  {
   "cell_type": "code",
   "execution_count": 56,
   "metadata": {},
   "outputs": [
    {
     "name": "stdout",
     "output_type": "stream",
     "text": [
      "2\n"
     ]
    }
   ],
   "source": [
    "if b:\n",
    "    print(2)"
   ]
  },
  {
   "cell_type": "code",
   "execution_count": 89,
   "metadata": {},
   "outputs": [
    {
     "data": {
      "text/plain": [
       "[]"
      ]
     },
     "execution_count": 89,
     "metadata": {},
     "output_type": "execute_result"
    }
   ],
   "source": [
    "soup.find_all('div',class_='text')"
   ]
  },
  {
   "cell_type": "code",
   "execution_count": 21,
   "metadata": {},
   "outputs": [],
   "source": [
    "def get_html(url):\n",
    "    page = requests.get(url,timeout=40)\n",
    "    page.encoding = page.apparent_encoding\n",
    "    page = BeautifulSoup(page.text, features=\"lxml\")\n",
    "    return page"
   ]
  },
  {
   "cell_type": "code",
   "execution_count": null,
   "metadata": {},
   "outputs": [],
   "source": [
    "def analysis_page(page):\n",
    "    contents = page.find_all('li')\n",
    "    for item in contents:\n",
    "        tag = item.find('div',class_='pic')\n",
    "        txt = item.find('div',class_='txt')\n",
    "        if tag and txt:\n",
    "            image_tag = tag.find('img')\n",
    "            button = tag.find('a')\n",
    "            actors = txt.find('p',class_='pActor').find_all('a')\n",
    "            title = image_tag.get('title',\"\")\n",
    "            img = image_tag.get('src',\"\")\n",
    "            time = txt.find('p',class_='pTit').find('span',class_='sIntro').string\n",
    "            detail = button.get('href',\"\")\n",
    "            actor = [i.string for i in actors]\n",
    "            introduction = txt.find('p','pTxt').string\n",
    "            result = {\n",
    "                'title':title,\n",
    "                'img':img,\n",
    "                'release_time':time,\n",
    "                'actors':actor,\n",
    "                'introduction':introduction,\n",
    "                'detail':detail\n",
    "            }\n",
    "            structured_data(result)"
   ]
  },
  {
   "cell_type": "code",
   "execution_count": null,
   "metadata": {},
   "outputs": [],
   "source": [
    "def structured_data(result):\n",
    "        client.index(index=\"movies\",body=result)"
   ]
  }
 ],
 "metadata": {
  "kernelspec": {
   "display_name": "Python 3",
   "language": "python",
   "name": "python3"
  },
  "language_info": {
   "codemirror_mode": {
    "name": "ipython",
    "version": 3
   },
   "file_extension": ".py",
   "mimetype": "text/x-python",
   "name": "python",
   "nbconvert_exporter": "python",
   "pygments_lexer": "ipython3",
   "version": "3.7.4"
  }
 },
 "nbformat": 4,
 "nbformat_minor": 2
}
