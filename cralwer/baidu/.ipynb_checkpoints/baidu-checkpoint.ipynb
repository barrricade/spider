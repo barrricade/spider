{
 "cells": [
  {
   "cell_type": "code",
   "execution_count": 2,
   "metadata": {},
   "outputs": [],
   "source": [
    "import requests\n",
    "from bs4 import BeautifulSoup\n",
    "baidu = requests.get(\"http://tieba.baidu.com/f?kw=%E7%94%9F%E6%B4%BB%E5%A4%A7%E7%88%86%E7%82%B8&ie=utf-8\").text\n",
    "soup = BeautifulSoup(baidu, features=\"html5lib\")\n",
    "content = soup.find_all(\"a\", \"j_th_tit\")"
   ]
  },
  {
   "cell_type": "code",
   "execution_count": 3,
   "metadata": {},
   "outputs": [
    {
     "data": {
      "text/plain": [
       "[<a class=\"j_th_tit\" href=\"/p/5887025698\" rel=\"noreferrer\" target=\"_blank\" title=\"《生活大爆炸》将于第 12 季大结局！明年 5 月将全剧终！\">《生活大爆炸》将于第 12 季大结局！明年 5 月将全剧终！</a>,\n",
       " <a class=\"j_th_tit\" href=\"/p/5852326665\" rel=\"noreferrer\" target=\"_blank\" title=\"都给我哭\">都给我哭</a>,\n",
       " <a class=\"j_th_tit\" href=\"/p/6308662507\" rel=\"noreferrer\" target=\"_blank\" title=\"[生活大爆炸]1~12完整，已整理，评论dd秒回 需要的来\">[生活大爆炸]1~12完整，已整理，评论dd秒回 需要的来</a>,\n",
       " <a class=\"j_th_tit\" href=\"/p/6309446052\" rel=\"noreferrer\" target=\"_blank\" title=\"迪雅罗兰•国际十大品牌墙布，一分钟教你如何选择一款好的墙布\">迪雅罗兰•国际十大品牌墙布，一分钟教你如何选择一款好的墙布</a>,\n",
       " <a class=\"j_th_tit\" href=\"/p/6309332371\" rel=\"noreferrer\" target=\"_blank\" title=\"大暴炸整理了\">大暴炸整理了</a>,\n",
       " <a class=\"j_th_tit\" href=\"/p/6309118472\" rel=\"noreferrer\" target=\"_blank\" title=\"T11超市与其它超市相比有哪些特色\">T11超市与其它超市相比有哪些特色</a>,\n",
       " <a class=\"j_th_tit\" href=\"/p/6302970250\" rel=\"noreferrer\" target=\"_blank\" title=\"闲鱼有出售国产的了！！ZZZZ\">闲鱼有出售国产的了！！ZZZZ</a>,\n",
       " <a class=\"j_th_tit\" href=\"/p/6305264585\" rel=\"noreferrer\" target=\"_blank\" title=\"求助一下 新人想求生活大爆炸的英文台词\">求助一下 新人想求生活大爆炸的英文台词</a>,\n",
       " <a class=\"j_th_tit\" href=\"/p/6296464023\" rel=\"noreferrer\" target=\"_blank\" title=\"4个高智商D丝的蜕变啊！真的不错，谢谢爱情公寓抄袭，我才发现\">4个高智商D丝的蜕变啊！真的不错，谢谢爱情公寓抄袭，我才发现</a>,\n",
       " <a class=\"j_th_tit\" href=\"/p/6247972297\" rel=\"noreferrer\" target=\"_blank\" title=\"说真的现实中Howard这种男人真的很适合结婚吧？全能型人才\">说真的现实中Howard这种男人真的很适合结婚吧？全能型人才</a>,\n",
       " <a class=\"j_th_tit\" href=\"/p/6289753011\" rel=\"noreferrer\" target=\"_blank\" title=\"谁能找到星际之门SG1第7季第八集的演员名单，我感觉里面的E\">谁能找到星际之门SG1第7季第八集的演员名单，我感觉里面的E</a>,\n",
       " <a class=\"j_th_tit\" href=\"/p/6308026611\" rel=\"noreferrer\" target=\"_blank\" title=\"椰语江南椰子鸡，吃鸡喝汤扒饭，椰语江南三部曲，舒服\">椰语江南椰子鸡，吃鸡喝汤扒饭，椰语江南三部曲，舒服</a>,\n",
       " <a class=\"j_th_tit\" href=\"/p/6268543477\" rel=\"noreferrer\" target=\"_blank\" title=\"现实中的谢耳朵找灵媒\">现实中的谢耳朵找灵媒</a>,\n",
       " <a class=\"j_th_tit\" href=\"/p/5700032677\" rel=\"noreferrer\" target=\"_blank\" title=\"谢尔顿和佩妮才是绝配！\">谢尔顿和佩妮才是绝配！</a>,\n",
       " <a class=\"j_th_tit\" href=\"/p/6307097372\" rel=\"noreferrer\" target=\"_blank\" title=\"回顾越狱第二季时发现野生penny……第十五集。声音都一样，\">回顾越狱第二季时发现野生penny……第十五集。声音都一样，</a>,\n",
       " <a class=\"j_th_tit\" href=\"/p/6289631447\" rel=\"noreferrer\" target=\"_blank\" title=\"Bert得诺贝尔物理学奖了          这也太像了吧\">Bert得诺贝尔物理学奖了          这也太像了吧</a>,\n",
       " <a class=\"j_th_tit\" href=\"/p/6306716165\" rel=\"noreferrer\" target=\"_blank\" title=\"耳朵\">耳朵</a>,\n",
       " <a class=\"j_th_tit\" href=\"/p/6307299861\" rel=\"noreferrer\" target=\"_blank\" title=\"我想问句，这吧里是不没有女的\">我想问句，这吧里是不没有女的</a>,\n",
       " <a class=\"j_th_tit\" href=\"/p/6304707702\" rel=\"noreferrer\" target=\"_blank\" title=\"howard家应该是这几个人里最有钱的吧\">howard家应该是这几个人里最有钱的吧</a>,\n",
       " <a class=\"j_th_tit\" href=\"/p/6306611135\" rel=\"noreferrer\" target=\"_blank\" title=\"东莞市共赢电子科技有限公司，可以说是一个不错的企业\">东莞市共赢电子科技有限公司，可以说是一个不错的企业</a>,\n",
       " <a class=\"j_th_tit\" href=\"/p/6240769762\" rel=\"noreferrer\" target=\"_blank\" title=\"如果不从第一部看会不会有影响\">如果不从第一部看会不会有影响</a>,\n",
       " <a class=\"j_th_tit\" href=\"/p/6305294120\" rel=\"noreferrer\" target=\"_blank\" title=\"法国注册品牌CHIEF首领打火机，品味男人的选择\">法国注册品牌CHIEF首领打火机，品味男人的选择</a>,\n",
       " <a class=\"j_th_tit\" href=\"/p/5672980935\" rel=\"noreferrer\" target=\"_blank\" title=\"这不是小谢尔顿里谢耳朵的爸爸？？？\">这不是小谢尔顿里谢耳朵的爸爸？？？</a>,\n",
       " <a class=\"j_th_tit\" href=\"/p/5081333569\" rel=\"noreferrer\" target=\"_blank\" title=\"Sheldon和Amy是什么时候嘿咻的？\">Sheldon和Amy是什么时候嘿咻的？</a>,\n",
       " <a class=\"j_th_tit\" href=\"/p/6277270222\" rel=\"noreferrer\" target=\"_blank\" title=\"燃爆这个秋天吧\">燃爆这个秋天吧</a>,\n",
       " <a class=\"j_th_tit\" href=\"/p/6045291475\" rel=\"noreferrer\" target=\"_blank\" title=\"有想看少年谢耳朵的吗\">有想看少年谢耳朵的吗</a>,\n",
       " <a class=\"j_th_tit\" href=\"/p/5846521657\" rel=\"noreferrer\" target=\"_blank\" title=\"《生活大爆炸》（TBBT）过去六季里，四位 nerd 里谁睡\">《生活大爆炸》（TBBT）过去六季里，四位 nerd 里谁睡</a>,\n",
       " <a class=\"j_th_tit\" href=\"/p/5811844793\" rel=\"noreferrer\" target=\"_blank\" title=\"引战贴------斯图尔特是剧中最讨厌的角色\">引战贴------斯图尔特是剧中最讨厌的角色</a>,\n",
       " <a class=\"j_th_tit\" href=\"/p/6083024057\" rel=\"noreferrer\" target=\"_blank\" title=\"华为荣耀10质量问题，售后不保修，还要收费\">华为荣耀10质量问题，售后不保修，还要收费</a>,\n",
       " <a class=\"j_th_tit\" href=\"/p/6302324911\" rel=\"noreferrer\" target=\"_blank\" title=\"强烈安利 康纳家庭生活\">强烈安利 康纳家庭生活</a>,\n",
       " <a class=\"j_th_tit\" href=\"/p/4933108556\" rel=\"noreferrer\" target=\"_blank\" title=\"厉害了我的姐，某吧看到一部三级电影介绍发现女主竟然是伯纳黛特\">厉害了我的姐，某吧看到一部三级电影介绍发现女主竟然是伯纳黛特</a>,\n",
       " <a class=\"j_th_tit\" href=\"/p/5779405625\" rel=\"noreferrer\" target=\"_blank\" title=\"克莱尔妹纸这胸。。\">克莱尔妹纸这胸。。</a>,\n",
       " <a class=\"j_th_tit\" href=\"/p/6247866653\" rel=\"noreferrer\" target=\"_blank\" title=\"我就想知道谢尔顿说的那些中文到底什么意思\">我就想知道谢尔顿说的那些中文到底什么意思</a>,\n",
       " <a class=\"j_th_tit\" href=\"/p/5954886614\" rel=\"noreferrer\" target=\"_blank\" title=\"大家有没有觉得莱纳德演得越来越心不在焉的感觉？\">大家有没有觉得莱纳德演得越来越心不在焉的感觉？</a>,\n",
       " <a class=\"j_th_tit\" href=\"/p/6302193951\" rel=\"noreferrer\" target=\"_blank\" title=\"分享：粘鼠板，蟑螂诱捕器这些，一般哪里有卖的，有没有知道的？？晒一\">分享：粘鼠板，蟑螂诱捕器这些，一般哪里有卖的，有没有知道的？？晒一</a>,\n",
       " <a class=\"j_th_tit\" href=\"/p/6291777267\" rel=\"noreferrer\" target=\"_blank\" title=\"求推荐一款靠谱的酸奶，简爱酸奶有喝过的吗？\">求推荐一款靠谱的酸奶，简爱酸奶有喝过的吗？</a>,\n",
       " <a class=\"j_th_tit\" href=\"/p/6288898248\" rel=\"noreferrer\" target=\"_blank\" title=\"不明白小谢尔顿怎么好看怎么IMBD评分怎么低\">不明白小谢尔顿怎么好看怎么IMBD评分怎么低</a>,\n",
       " <a class=\"j_th_tit\" href=\"/p/6134089607\" rel=\"noreferrer\" target=\"_blank\" title=\"小谢耳朵这集到处都在为大爆炸大结局对应啊。小谢耳朵这集要收听\">小谢耳朵这集到处都在为大爆炸大结局对应啊。小谢耳朵这集要收听</a>,\n",
       " <a class=\"j_th_tit\" href=\"/p/6226037826\" rel=\"noreferrer\" target=\"_blank\" title=\"最近在重温全剧，突然发现谢耳朵毕业的大学好像才是排名是最差的\">最近在重温全剧，突然发现谢耳朵毕业的大学好像才是排名是最差的</a>,\n",
       " <a class=\"j_th_tit\" href=\"/p/6301444290\" rel=\"noreferrer\" target=\"_blank\" title=\"每开一家森百利照明灯饰店，都能收获很好的生意\">每开一家森百利照明灯饰店，都能收获很好的生意</a>,\n",
       " <a class=\"j_th_tit\" href=\"/p/6295466834\" rel=\"noreferrer\" target=\"_blank\" title=\"S7E06为什么我感觉看着怪怪的\">S7E06为什么我感觉看着怪怪的</a>,\n",
       " <a class=\"j_th_tit\" href=\"/p/6300979261\" rel=\"noreferrer\" target=\"_blank\" title=\"求一张高清壁纸，谢耳朵的\">求一张高清壁纸，谢耳朵的</a>,\n",
       " <a class=\"j_th_tit\" href=\"/p/6300401366\" rel=\"noreferrer\" target=\"_blank\" title=\"2019年很火的格格之恋酒店机项目怎么样？\">2019年很火的格格之恋酒店机项目怎么样？</a>,\n",
       " <a class=\"j_th_tit\" href=\"/p/6163760782\" rel=\"noreferrer\" target=\"_blank\" title=\"求十二季结尾主题曲的吉他曲\">求十二季结尾主题曲的吉他曲</a>,\n",
       " <a class=\"j_th_tit\" href=\"/p/5765450977\" rel=\"noreferrer\" target=\"_blank\" title=\"请问下还有没有人记得，谢尔顿会说几种语言？分别是什么？\">请问下还有没有人记得，谢尔顿会说几种语言？分别是什么？</a>,\n",
       " <a class=\"j_th_tit\" href=\"/p/6293377643\" rel=\"noreferrer\" target=\"_blank\" title=\"佩妮提问抢答答题是哪一集\">佩妮提问抢答答题是哪一集</a>,\n",
       " <a class=\"j_th_tit\" href=\"/p/6229336708\" rel=\"noreferrer\" target=\"_blank\" title=\"各位大佬，请问拉杰什第一次不用喝酒和佩妮说话是第几季的多少集\">各位大佬，请问拉杰什第一次不用喝酒和佩妮说话是第几季的多少集</a>,\n",
       " <a class=\"j_th_tit\" href=\"/p/5929589790\" rel=\"noreferrer\" target=\"_blank\" title=\"佩妮和谢耳朵？\">佩妮和谢耳朵？</a>,\n",
       " <a class=\"j_th_tit\" href=\"/p/6297691445\" rel=\"noreferrer\" target=\"_blank\" title=\"广州好又来餐饮管理有限公司，如何打造西点品牌核心竞争力\">广州好又来餐饮管理有限公司，如何打造西点品牌核心竞争力</a>,\n",
       " <a class=\"j_th_tit\" href=\"/p/6296384540\" rel=\"noreferrer\" target=\"_blank\" title=\"芊伊朵品牌造女性完美身材，打下了良好的口碑形象\">芊伊朵品牌造女性完美身材，打下了良好的口碑形象</a>]"
      ]
     },
     "execution_count": 3,
     "metadata": {},
     "output_type": "execute_result"
    }
   ],
   "source": [
    "soup.find_all(\"a\",\"j_th_tit\")"
   ]
  },
  {
   "cell_type": "code",
   "execution_count": 4,
   "metadata": {},
   "outputs": [],
   "source": [
    "content = soup.find_all(\"a\", \"j_th_tit\")"
   ]
  },
  {
   "cell_type": "code",
   "execution_count": 17,
   "metadata": {},
   "outputs": [
    {
     "name": "stdout",
     "output_type": "stream",
     "text": [
      "《生活大爆炸》将于第 12 季大结局！明年 5 月将全剧终！\n"
     ]
    }
   ],
   "source": [
    "print(content[0].get(\"title\"))"
   ]
  },
  {
   "cell_type": "code",
   "execution_count": null,
   "metadata": {},
   "outputs": [],
   "source": []
  }
 ],
 "metadata": {
  "file_extension": ".py",
  "kernelspec": {
   "display_name": "Python 3",
   "language": "python",
   "name": "python3"
  },
  "language_info": {
   "codemirror_mode": {
    "name": "ipython",
    "version": 3
   },
   "file_extension": ".py",
   "mimetype": "text/x-python",
   "name": "python",
   "nbconvert_exporter": "python",
   "pygments_lexer": "ipython3",
   "version": "3.7.4"
  },
  "mimetype": "text/x-python",
  "name": "python",
  "npconvert_exporter": "python",
  "pygments_lexer": "ipython3",
  "version": 3
 },
 "nbformat": 4,
 "nbformat_minor": 2
}
