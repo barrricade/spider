{
 "cells": [
  {
   "cell_type": "code",
   "execution_count": 2,
   "metadata": {},
   "outputs": [],
   "source": [
    "import requests\n",
    "from bs4 import BeautifulSoup\n",
    "baidu = requests.get(\"http://tieba.baidu.com/f?kw=%E7%94%9F%E6%B4%BB%E5%A4%A7%E7%88%86%E7%82%B8&ie=utf-8\").text\n",
    "baidu.endcodding = baidu.apparent_endconding\n",
    "soup = BeautifulSoup(baidu, features=\"html5lib\")"
   ]
  },
  {
   "cell_type": "code",
   "execution_count": 5,
   "metadata": {},
   "outputs": [],
   "source": [
    "li = soup.find_all('li','j_thread_list clearfix')"
   ]
  },
  {
   "cell_type": "code",
   "execution_count": 44,
   "metadata": {},
   "outputs": [],
   "source": [
    "def get_html(url):\n",
    "    try:\n",
    "        baidu = requests.get(url)\n",
    "        baidu.endcodding = 'utf-8'\n",
    "        soup = BeautifulSoup(baidu.text, features=\"html5lib\")\n",
    "        return soup\n",
    "    except:\n",
    "        return \" ERROR \""
   ]
  },
  {
   "cell_type": "code",
   "execution_count": null,
   "metadata": {},
   "outputs": [],
   "source": [
    "#整理数据\n",
    "def get_content():\n",
    "    content = list()\n",
    "    soup = get_html(url=\"http://tieba.baidu.com/f?kw=%E7%94%9F%E6%B4%BB%E5%A4%A7%E7%88%86%E7%82%B8&ie=utf-8\")\n",
    "    tags = soup.find_all('li', 'j_thread_list clearfix')\n",
    "    for tag in tags:\n",
    "        title = tag.find('a', 'j_th_tit')\n",
    "        content['title'] = title.get('title')\n",
    "        content['text'] = title.string\n",
    "        content['href'] = \"http://tieba.baidu.com\" + title.get(\"href\")\n",
    "        reply = tag.find('span', 'threadlist_rep_num center_text')\n",
    "        content['reply_number'] = reply.string\n",
    "        author = tag.find('span','tb_icon_author')\n",
    "        content['author'] = author.get('title').split(':')[1]\n",
    "        content['reply'] = "
   ]
  },
  {
   "cell_type": "code",
   "execution_count": null,
   "metadata": {},
   "outputs": [],
   "source": [
    "#获取该贴的回复\n",
    "def get_reply(url):\n",
    "    reply = list()\n",
    "    soup = get_html(url=url)\n",
    "    divs = soup.find_all('div','l_post')\n",
    "    for div in divs:\n",
    "        reply[''] = find('a', 'p_author_name').string"
   ]
  },
  {
   "cell_type": "code",
   "execution_count": 11,
   "metadata": {},
   "outputs": [
    {
     "data": {
      "text/plain": [
       "<li '=\"\" class=\"j_thread_list clearfix\" data-field='{\"id\":6308662507,\"author_name\":\"liaoguohai12\",\"author_nickname\":\"\\u6211\\u662f\\u5927\\u54e5\\u5927\\ud83c\\udf44\",\"author_portrait\":\"tb.1.323cccf.wub8WtFqH50ozeF1Dbdyqw\",\"first_post_id\":128029947224,\"reply_num\":1507,\"is_bakan\":null,\"vid\":\"\",\"is_good\":null,\"is_top\":null,\"is_protal\":null,\"is_membertop\":null,\"is_multi_forum\":null,\"frs_tpoint\":null}' data-floor=\"1\" data-thread-type=\"0\" data-tid=\"6308662507\">\n",
       "            <div class=\"t_con cleafix\">\n",
       "                            <div class=\"col2_left j_threadlist_li_left\">\n",
       "                                     \n",
       "                            <span class=\"threadlist_rep_num center_text\" title=\"回复\">1507</span>\n",
       "                                                </div>\n",
       "                <div class=\"col2_right j_threadlist_li_right\">\n",
       "            <div class=\"threadlist_lz clearfix\">\n",
       "                <div class=\"threadlist_title pull_left j_th_tit\">\n",
       "    \n",
       "    \n",
       "    <a class=\"j_th_tit\" href=\"/p/6308662507\" rel=\"noreferrer\" target=\"_blank\" title=\"[生活大爆炸]1~12完整，已整理，评论dd秒回 需要的来\">[生活大爆炸]1~12完整，已整理，评论dd秒回 需要的来</a>\n",
       "</div><div class=\"threadlist_author pull_right\">\n",
       "    <span class=\"tb_icon_author\" data-field='{\"user_id\":116717809}' title=\"主题作者: 我是大哥大🍄\"><i class=\"icon_author\"></i><span class=\"frs-author-name-wrap\"><a class=\"frs-author-name j_user_card\" data-field='{\"un\":\"liaoguohai12\",\"id\":\"tb.1.323cccf.wub8WtFqH50ozeF1Dbdyqw\"}' href=\"/home/main/?un=liaoguohai12&amp;ie=utf-8&amp;id=tb.1.323cccf.wub8WtFqH50ozeF1Dbdyqw&amp;fr=frs\" rel=\"noreferrer\" target=\"_blank\">我是大哥...</a></span><span class=\"icon_wrap icon_wrap_theme1 frs_bright_icons\"><a class=\"j_icon_slot\" data-field='{\"name\":\"gold_baiyang\",\"end_time\":\"1735660800\",\"category_id\":102,\"slot_no\":\"1\",\"title\":\"\\u767d\\u7f8a\\u5ea7\\u9ec4\\u91d1\\u7248\\u5370\\u8bb0\",\"intro\":\"\\u96c6\\u9f5012\\u4e2a\\u661f\\u5ea7\\u5370\\u8bb0\\u53ef\\u4ee5\\u83b7\\u5f9712\\u4e2a\\u9ec4\\u91d1\\u7248\\u661f\\u5ea7\\u5370\\u8bb0\\u3002\",\"intro_url\":\"http:\\/\\/tieba.baidu.com\\/f?ie=utf-8&amp;kw=%E8%9B%87%E5%A4%AB%E5%BA%A7&amp;fr=search\",\"price\":0,\"value\":\"1\",\"sprite\":{\"1\":\"1572611820,13\"}}' data-name=\"gold_baiyang\" data-slot=\"1\" href=\"http://tieba.baidu.com/f?ie=utf-8&amp;kw=%E8%9B%87%E5%A4%AB%E5%BA%A7&amp;fr=search\" locate=\"gold_baiyang_1#icon\" style=\"background: url(//tb1.bdstatic.com/tb/cms/com/icon/102_14.png?stamp=1572611820) no-repeat -650px  0;top:0px;left:0px\" target=\"_blank\" title=\"白羊座黄金版印记\">  <div class=\"j_icon_slot_refresh\"></div></a><a class=\"j_icon_slot\" data-field='{\"name\":\"gold_jinniu\",\"end_time\":\"1735660800\",\"category_id\":102,\"slot_no\":\"2\",\"title\":\"\\u91d1\\u725b\\u5ea7\\u9ec4\\u91d1\\u7248\\u5370\\u8bb0\",\"intro\":\"\\u96c6\\u9f5012\\u4e2a\\u661f\\u5ea7\\u5370\\u8bb0\\u53ef\\u4ee5\\u83b7\\u5f9712\\u4e2a\\u9ec4\\u91d1\\u7248\\u661f\\u5ea7\\u5370\\u8bb0\\u3002\",\"intro_url\":\"http:\\/\\/tieba.baidu.com\\/f?ie=utf-8&amp;kw=%E8%9B%87%E5%A4%AB%E5%BA%A7&amp;fr=search\",\"price\":0,\"value\":\"1\",\"sprite\":{\"1\":\"1572611820,11\"}}' data-name=\"gold_jinniu\" data-slot=\"2\" href=\"http://tieba.baidu.com/f?ie=utf-8&amp;kw=%E8%9B%87%E5%A4%AB%E5%BA%A7&amp;fr=search\" locate=\"gold_jinniu_1#icon\" style=\"background: url(//tb1.bdstatic.com/tb/cms/com/icon/102_14.png?stamp=1572611820) no-repeat -550px  0;top:0px;left:28px\" target=\"_blank\" title=\"金牛座黄金版印记\">  <div class=\"j_icon_slot_refresh\"></div></a><a class=\"j_icon_slot\" data-field='{\"name\":\"gold_tianxie\",\"end_time\":\"1735660800\",\"category_id\":102,\"slot_no\":\"3\",\"title\":\"\\u5929\\u874e\\u5ea7\\u9ec4\\u91d1\\u7248\\u5370\\u8bb0\",\"intro\":\"\\u96c6\\u9f5012\\u4e2a\\u661f\\u5ea7\\u5370\\u8bb0\\u53ef\\u4ee5\\u83b7\\u5f9712\\u4e2a\\u9ec4\\u91d1\\u7248\\u661f\\u5ea7\\u5370\\u8bb0\\u3002\",\"intro_url\":\"http:\\/\\/tieba.baidu.com\\/f?ie=utf-8&amp;kw=%E8%9B%87%E5%A4%AB%E5%BA%A7&amp;fr=search\",\"price\":0,\"value\":\"1\",\"sprite\":{\"1\":\"1572611820,2\"}}' data-name=\"gold_tianxie\" data-slot=\"3\" href=\"http://tieba.baidu.com/f?ie=utf-8&amp;kw=%E8%9B%87%E5%A4%AB%E5%BA%A7&amp;fr=search\" locate=\"gold_tianxie_1#icon\" style=\"background: url(//tb1.bdstatic.com/tb/cms/com/icon/102_14.png?stamp=1572611820) no-repeat -100px  0;top:0px;left:56px\" target=\"_blank\" title=\"天蝎座黄金版印记\">  <div class=\"j_icon_slot_refresh\"></div></a></span>    </span>\n",
       "    <span class=\"pull-right is_show_create_time\" title=\"创建时间\">10-24</span>\n",
       "</div>\n",
       "            </div>\n",
       "                            <div class=\"threadlist_detail clearfix\">\n",
       "                    <div class=\"threadlist_text pull_left\">\n",
       "                                <div class=\"threadlist_abs threadlist_abs_onlyline\">\n",
       "            <span class=\"topic-tag\" data-name=\"%E7%94%9F%E6%B4%BB%E5%A4%A7%E7%88%86%E7%82%B8\">#生活大爆炸#</span><span class=\"topic-tag\" data-name=\"%E7%94%9F%E6%B4%BB%E5%A4%A7%E7%88%86%E7%82%B8\">#生活大爆炸#</span>主人公谢尔顿·库珀Sheldon Cooper（吉姆·帕森斯饰）和莱纳德·霍夫斯塔特Leonard Hofstadter（约翰尼·盖尔克奇饰）是一对好朋友，他们的智商绝对高人一等，因为他们对量子物理学理论可以倒背如流，无论你问他们什么问题，都难不倒他们。但是说到日常生活，这两个不修边幅的男孩就彻底没了脾气，生活中柴米油盐这些看似简单的事情，却让他们有迷失在太空里一样的感觉，他们所掌握的那些科学原理在这里根本没有用武之地\n",
       "        </div>\n",
       "\n",
       "\n",
       "            <div class=\"small_wrap j_small_wrap\">\n",
       "                <a class=\"small_btn_pre j_small_pic_pre\" href=\"#\" onclick=\"return false;\" rel=\"noreferrer\" style=\"display:none\"></a>\n",
       "                <a class=\"small_btn_next j_small_pic_next\" href=\"#\" onclick=\"return false;\" rel=\"noreferrer\" style=\"display:none\"></a>\n",
       "                <div class=\"small_list j_small_list cleafix\">\n",
       "                    <div class=\"small_list_gallery\">\n",
       "                        <ul class=\"threadlist_media j_threadlist_media clearfix\" id=\"fm6308662507\"><li><a class=\"thumbnail vpic_wrap\" rel=\"noreferrer\"><img attr=\"92988\" bpic=\"http://imgsrc.baidu.com/forum/w%3D580%3B/sign=438d90d079c6a7efb926a82ecdc1ae51/838ba61ea8d3fd1fe5a897353f4e251f95ca5f1f.jpg\" class=\"threadlist_pic j_m_pic\" data-original=\"http://imgsrc.baidu.com/forum/wh%3D200%2C90%3B/sign=00934bc4f4edab64742745c2c70683fa/e066bc014c086e06b9090a440d087bf40bd1cb1f.jpg\" src=\"\"/></a><div class=\"threadlist_pic_highlight j_m_pic_light\"></div></li></ul>\n",
       "                        \n",
       "                    </div>\n",
       "                </div>\n",
       "            </div>                    </div>\n",
       "\n",
       "                    \n",
       "\n",
       "<div class=\"threadlist_author pull_right\">\n",
       "        <span class=\"tb_icon_author_rely j_replyer\" title=\"最后回复人: m8T1471beo\">\n",
       "            <i class=\"icon_replyer\"></i>\n",
       "            <a class=\"frs-author-name j_user_card\" data-field='{\"un\":\"m8T1471beo\",\"id\":\"tb.1.ab64369d.W3N__Ulh0Iv1equyDEBWzQ\"}' href=\"/home/main/?un=m8T1471beo&amp;ie=utf-8&amp;id=tb.1.ab64369d.W3N__Ulh0Iv1equyDEBWzQ&amp;fr=frs\" rel=\"noreferrer\" target=\"_blank\">m8T1471beo</a>        </span>\n",
       "        <span class=\"threadlist_reply_date pull_right j_reply_data\" title=\"最后回复时间\">\n",
       "            16:55        </span>\n",
       "</div>\n",
       "                </div>\n",
       "                                </div>\n",
       "    </div>\n",
       "</li>"
      ]
     },
     "execution_count": 11,
     "metadata": {},
     "output_type": "execute_result"
    }
   ],
   "source": [
    "li[0]"
   ]
  },
  {
   "cell_type": "code",
   "execution_count": 13,
   "metadata": {},
   "outputs": [],
   "source": [
    "title = li[0].find('a','j_th_tit')"
   ]
  },
  {
   "cell_type": "code",
   "execution_count": 17,
   "metadata": {},
   "outputs": [
    {
     "data": {
      "text/plain": [
       "<a class=\"j_th_tit\" href=\"/p/6308662507\" rel=\"noreferrer\" target=\"_blank\" title=\"[生活大爆炸]1~12完整，已整理，评论dd秒回 需要的来\">[生活大爆炸]1~12完整，已整理，评论dd秒回 需要的来</a>"
      ]
     },
     "execution_count": 17,
     "metadata": {},
     "output_type": "execute_result"
    }
   ],
   "source": [
    "title"
   ]
  },
  {
   "cell_type": "code",
   "execution_count": 16,
   "metadata": {},
   "outputs": [
    {
     "data": {
      "text/plain": [
       "'[生活大爆炸]1~12完整，已整理，评论dd秒回 需要的来'"
      ]
     },
     "execution_count": 16,
     "metadata": {},
     "output_type": "execute_result"
    }
   ],
   "source": [
    "title.string"
   ]
  },
  {
   "cell_type": "code",
   "execution_count": 18,
   "metadata": {},
   "outputs": [],
   "source": [
    "reply = li[0].find('span', 'threadlist_rep_num center_text')"
   ]
  },
  {
   "cell_type": "code",
   "execution_count": 19,
   "metadata": {},
   "outputs": [
    {
     "data": {
      "text/plain": [
       "<span class=\"threadlist_rep_num center_text\" title=\"回复\">1507</span>"
      ]
     },
     "execution_count": 19,
     "metadata": {},
     "output_type": "execute_result"
    }
   ],
   "source": [
    "reply"
   ]
  },
  {
   "cell_type": "code",
   "execution_count": 20,
   "metadata": {},
   "outputs": [],
   "source": [
    "author = li[0].find('span','tb_icon_author')"
   ]
  },
  {
   "cell_type": "code",
   "execution_count": 26,
   "metadata": {},
   "outputs": [
    {
     "data": {
      "text/plain": [
       "' 我是大哥大🍄'"
      ]
     },
     "execution_count": 26,
     "metadata": {},
     "output_type": "execute_result"
    }
   ],
   "source": [
    "author.get('title').split(':')[1]"
   ]
  },
  {
   "cell_type": "code",
   "execution_count": 66,
   "metadata": {},
   "outputs": [],
   "source": [
    "soup = get_html(url=\"http://tieba.baidu.com/p/6324150574\")"
   ]
  },
  {
   "cell_type": "code",
   "execution_count": 67,
   "metadata": {},
   "outputs": [],
   "source": [
    "div = soup.find_all('div','l_post')"
   ]
  },
  {
   "cell_type": "code",
   "execution_count": 76,
   "metadata": {},
   "outputs": [
    {
     "data": {
      "text/plain": [
       "[<a alog-group=\"p_author\" class=\"p_author_name j_user_card\" data-field='{\"un\":\"\\u82b1\\u7530\\u569f\",\"id\":\"tb.1.b3c382b9.fTvYs6I_qbgtrF0raznK1A\"}' href=\"/home/main?un=%E8%8A%B1%E7%94%B0%E5%9A%9F&amp;ie=utf-8&amp;id=tb.1.b3c382b9.fTvYs6I_qbgtrF0raznK1A&amp;fr=pb&amp;ie=utf-8\" target=\"_blank\">花田嚟</a>,\n",
       " <a alog-group=\"p_author\" class=\"p_author_name j_user_card\" data-field='{\"un\":\"\\u82b1\\u7530\\u569f\",\"id\":\"tb.1.b3c382b9.fTvYs6I_qbgtrF0raznK1A\"}' href=\"/home/main?un=%E8%8A%B1%E7%94%B0%E5%9A%9F&amp;ie=utf-8&amp;id=tb.1.b3c382b9.fTvYs6I_qbgtrF0raznK1A&amp;fr=pb&amp;ie=utf-8\" target=\"_blank\">花田嚟</a>,\n",
       " <a alog-group=\"p_author\" class=\"p_author_name j_user_card\" data-field='{\"un\":\"\\u82b1\\u7530\\u569f\",\"id\":\"tb.1.b3c382b9.fTvYs6I_qbgtrF0raznK1A\"}' href=\"/home/main?un=%E8%8A%B1%E7%94%B0%E5%9A%9F&amp;ie=utf-8&amp;id=tb.1.b3c382b9.fTvYs6I_qbgtrF0raznK1A&amp;fr=pb&amp;ie=utf-8\" target=\"_blank\">花田嚟</a>,\n",
       " <a alog-group=\"p_author\" class=\"p_author_name j_user_card\" data-field='{\"un\":\"\\u82b1\\u7530\\u569f\",\"id\":\"tb.1.b3c382b9.fTvYs6I_qbgtrF0raznK1A\"}' href=\"/home/main?un=%E8%8A%B1%E7%94%B0%E5%9A%9F&amp;ie=utf-8&amp;id=tb.1.b3c382b9.fTvYs6I_qbgtrF0raznK1A&amp;fr=pb&amp;ie=utf-8\" target=\"_blank\">花田嚟</a>,\n",
       " <a alog-group=\"p_author\" class=\"p_author_name j_user_card\" data-field='{\"un\":\"qi33611\",\"id\":\"tb.1.4721bf38.M-LjT9j2tMlOhki9PPwe3g\"}' href=\"/home/main?un=qi33611&amp;ie=utf-8&amp;id=tb.1.4721bf38.M-LjT9j2tMlOhki9PPwe3g&amp;fr=pb&amp;ie=utf-8\" target=\"_blank\">qi33611</a>,\n",
       " <a alog-group=\"p_author\" class=\"p_author_name j_user_card\" data-field='{\"un\":\"\\u5403\\u74dc\\u73a9\\u5bb6S\",\"id\":\"tb.1.399f91a2.aUxa6kJUijvU8hICSx63gQ\"}' href=\"/home/main?un=%E5%90%83%E7%93%9C%E7%8E%A9%E5%AE%B6S&amp;ie=utf-8&amp;id=tb.1.399f91a2.aUxa6kJUijvU8hICSx63gQ&amp;fr=pb&amp;ie=utf-8\" target=\"_blank\">贴吧用户_QGE3MAQ</a>,\n",
       " <a alog-group=\"p_author\" class=\"p_author_name j_user_card\" data-field='{\"un\":\"\\u989d\\u5e9f3\",\"id\":\"tb.1.1df4f2fe._4zsv679QPN6wuHS_Q8VrA\"}' href=\"/home/main?un=%E9%A2%9D%E5%BA%9F3&amp;ie=utf-8&amp;id=tb.1.1df4f2fe._4zsv679QPN6wuHS_Q8VrA&amp;fr=pb&amp;ie=utf-8\" target=\"_blank\">额废3</a>,\n",
       " <a alog-group=\"p_author\" class=\"p_author_name j_user_card\" data-field='{\"un\":\"\\u55b5\\u563b\\u563bhaha\",\"id\":\"tb.1.4e000dfc.3P42NWXDaOlsoOdxetR5Qg\"}' href=\"/home/main?un=%E5%96%B5%E5%98%BB%E5%98%BBhaha&amp;ie=utf-8&amp;id=tb.1.4e000dfc.3P42NWXDaOlsoOdxetR5Qg&amp;fr=pb&amp;ie=utf-8\" target=\"_blank\">喵嘻嘻haha</a>,\n",
       " <a alog-group=\"p_author\" class=\"p_author_name j_user_card\" data-field='{\"un\":\"hhpmybaby8\",\"id\":\"tb.1.31f6bd4e.RBVD7nNuAiETBahqo0iTsA\"}' href=\"/home/main?un=hhpmybaby8&amp;ie=utf-8&amp;id=tb.1.31f6bd4e.RBVD7nNuAiETBahqo0iTsA&amp;fr=pb&amp;ie=utf-8\" target=\"_blank\">hhpmybaby8</a>,\n",
       " <a alog-group=\"p_author\" class=\"p_author_name j_user_card\" data-field='{\"un\":\"\\u5341\\u6cb31707\",\"id\":\"tb.1.2507f554.80lf5LbHvvQyLxNoG3z_kg\"}' href=\"/home/main?un=%E5%8D%81%E6%B2%B31707&amp;ie=utf-8&amp;id=tb.1.2507f554.80lf5LbHvvQyLxNoG3z_kg&amp;fr=pb&amp;ie=utf-8\" target=\"_blank\">贴吧用户_5WAaMSR</a>,\n",
       " <a alog-group=\"p_author\" class=\"p_author_name j_user_card\" data-field='{\"un\":\"\\u7422\\u52a0\",\"id\":\"tb.1.6795d35.ILl3_h4vLxagDeIBuGLzrQ\"}' href=\"/home/main?un=%E7%90%A2%E5%8A%A0&amp;ie=utf-8&amp;id=tb.1.6795d35.ILl3_h4vLxagDeIBuGLzrQ&amp;fr=pb&amp;ie=utf-8\" target=\"_blank\">琢加</a>,\n",
       " <a alog-group=\"p_author\" class=\"p_author_name j_user_card\" data-field='{\"un\":\"YRan95\",\"id\":\"tb.1.9dda38eb.5trJKZ5UGyfTmdQtUsHX6w\"}' href=\"/home/main?un=YRan95&amp;ie=utf-8&amp;id=tb.1.9dda38eb.5trJKZ5UGyfTmdQtUsHX6w&amp;fr=pb&amp;ie=utf-8\" target=\"_blank\">YRan95</a>,\n",
       " <a alog-group=\"p_author\" class=\"p_author_name j_user_card\" data-field='{\"un\":\"\\u4e50\\u89c2\\u7684\\u96f7\\u8fbe\",\"id\":\"tb.1.1fe432fc.S22XLY6qMRKSKLY7W20cgA\"}' href=\"/home/main?un=%E4%B9%90%E8%A7%82%E7%9A%84%E9%9B%B7%E8%BE%BE&amp;ie=utf-8&amp;id=tb.1.1fe432fc.S22XLY6qMRKSKLY7W20cgA&amp;fr=pb&amp;ie=utf-8\" target=\"_blank\">乐观的雷达</a>,\n",
       " <a alog-group=\"p_author\" class=\"p_author_name j_user_card\" data-field='{\"un\":\"\\u4e50\\u89c2\\u7684\\u96f7\\u8fbe\",\"id\":\"tb.1.1fe432fc.S22XLY6qMRKSKLY7W20cgA\"}' href=\"/home/main?un=%E4%B9%90%E8%A7%82%E7%9A%84%E9%9B%B7%E8%BE%BE&amp;ie=utf-8&amp;id=tb.1.1fe432fc.S22XLY6qMRKSKLY7W20cgA&amp;fr=pb&amp;ie=utf-8\" target=\"_blank\">乐观的雷达</a>,\n",
       " <a alog-group=\"p_author\" class=\"p_author_name j_user_card\" data-field='{\"un\":\"\\u4e50\\u89c2\\u7684\\u96f7\\u8fbe\",\"id\":\"tb.1.1fe432fc.S22XLY6qMRKSKLY7W20cgA\"}' href=\"/home/main?un=%E4%B9%90%E8%A7%82%E7%9A%84%E9%9B%B7%E8%BE%BE&amp;ie=utf-8&amp;id=tb.1.1fe432fc.S22XLY6qMRKSKLY7W20cgA&amp;fr=pb&amp;ie=utf-8\" target=\"_blank\">乐观的雷达</a>,\n",
       " <a alog-group=\"p_author\" class=\"p_author_name j_user_card\" data-field='{\"un\":\"fkfjogjgof\",\"id\":\"tb.1.6eeb0608.iFNLKhEHBxWvrGITKCHM7w\"}' href=\"/home/main?un=fkfjogjgof&amp;ie=utf-8&amp;id=tb.1.6eeb0608.iFNLKhEHBxWvrGITKCHM7w&amp;fr=pb&amp;ie=utf-8\" target=\"_blank\">fkfjogjgof</a>,\n",
       " <a alog-group=\"p_author\" class=\"p_author_name j_user_card\" data-field='{\"un\":\"\\u5e9f\\u589f\\u91cc\\u7684\\u4fe1\\u4ef0\",\"id\":\"tb.1.4afae80f.uuO6bVlUbXXktqE0fyMWmg\"}' href=\"/home/main?un=%E5%BA%9F%E5%A2%9F%E9%87%8C%E7%9A%84%E4%BF%A1%E4%BB%B0&amp;ie=utf-8&amp;id=tb.1.4afae80f.uuO6bVlUbXXktqE0fyMWmg&amp;fr=pb&amp;ie=utf-8\" target=\"_blank\">你真好看<img class=\"nicknameEmoji\" src=\"//tb1.bdstatic.com/tb/cms/nickemoji/1-35.png\" style=\"width:13px;height:13px\"/><img class=\"nicknameEmoji\" src=\"//tb1.bdstatic.com/tb/cms/nickemoji/1-35.png\" style=\"width:13px;height:13px\"/></a>,\n",
       " <a alog-group=\"p_author\" class=\"p_author_name j_user_card\" data-field='{\"un\":\"hai448941050\",\"id\":\"tb.1.8165164b.UVyheorkVMeWxCX7uM0dQg\"}' href=\"/home/main?un=hai448941050&amp;ie=utf-8&amp;id=tb.1.8165164b.UVyheorkVMeWxCX7uM0dQg&amp;fr=pb&amp;ie=utf-8\" target=\"_blank\">hai448941050</a>,\n",
       " <a alog-group=\"p_author\" class=\"p_author_name j_user_card\" data-field='{\"un\":\"\\u4f60tm\\u5728\\u9017\\u6211\\u4e48\",\"id\":\"tb.1.5c931bd2.aUym3RRUk1o67HFNx-VCdQ\"}' href=\"/home/main?un=%E4%BD%A0tm%E5%9C%A8%E9%80%97%E6%88%91%E4%B9%88&amp;ie=utf-8&amp;id=tb.1.5c931bd2.aUym3RRUk1o67HFNx-VCdQ&amp;fr=pb&amp;ie=utf-8\" target=\"_blank\">你tm在逗我么</a>,\n",
       " <a alog-group=\"p_author\" class=\"p_author_name j_user_card\" data-field='{\"un\":\"\\u7b11\\u7684\\u5165\\u9aa8\",\"id\":\"tb.1.4ecde705.kHWNaQJydQJW3NPAFOR5Mw\"}' href=\"/home/main?un=%E7%AC%91%E7%9A%84%E5%85%A5%E9%AA%A8&amp;ie=utf-8&amp;id=tb.1.4ecde705.kHWNaQJydQJW3NPAFOR5Mw&amp;fr=pb&amp;ie=utf-8\" target=\"_blank\">笑的入骨</a>,\n",
       " <a alog-group=\"p_author\" class=\"p_author_name j_user_card\" data-field='{\"un\":\"\\u67d2\\u67d3\\u6d77\",\"id\":\"tb.1.9dace595.JCLzpp7v1isa4_C4D-A0Rg\"}' href=\"/home/main?un=%E6%9F%92%E6%9F%93%E6%B5%B7&amp;ie=utf-8&amp;id=tb.1.9dace595.JCLzpp7v1isa4_C4D-A0Rg&amp;fr=pb&amp;ie=utf-8\" target=\"_blank\">柒染海</a>,\n",
       " <a alog-group=\"p_author\" class=\"p_author_name j_user_card\" data-field='{\"un\":\"\\u8d3e\\u5c14\\u6cd5Alin\",\"id\":\"tb.1.5a6ce8cb.OWKQy7V6mH6NtlyqJ_QvBw\"}' href=\"/home/main?un=%E8%B4%BE%E5%B0%94%E6%B3%95Alin&amp;ie=utf-8&amp;id=tb.1.5a6ce8cb.OWKQy7V6mH6NtlyqJ_QvBw&amp;fr=pb&amp;ie=utf-8\" target=\"_blank\">贾尔法Alin</a>,\n",
       " <a alog-group=\"p_author\" class=\"p_author_name j_user_card\" data-field='{\"un\":null,\"id\":\"tb.1.a830a8f4.XFU6g_Q8PdUS7raaLGzr9Q\"}' href=\"/home/main?un=&amp;ie=utf-8&amp;id=tb.1.a830a8f4.XFU6g_Q8PdUS7raaLGzr9Q&amp;fr=pb&amp;ie=utf-8\" target=\"_blank\">贴吧用户_5XU9aAa</a>,\n",
       " <a alog-group=\"p_author\" class=\"p_author_name j_user_card\" data-field='{\"un\":\"\\u5434\\u83ab\\u5a77\\u8fc7\\u7684\\u5f88\\u597d\",\"id\":\"tb.1.4d518f66.vuMQNV9P1inP5Z62LIEJbQ\"}' href=\"/home/main?un=%E5%90%B4%E8%8E%AB%E5%A9%B7%E8%BF%87%E7%9A%84%E5%BE%88%E5%A5%BD&amp;ie=utf-8&amp;id=tb.1.4d518f66.vuMQNV9P1inP5Z62LIEJbQ&amp;fr=pb&amp;ie=utf-8\" target=\"_blank\">宛宛<img class=\"nicknameEmoji\" src=\"//tb1.bdstatic.com/tb/cms/nickemoji/3-16.png\" style=\"width:13px;height:13px\"/></a>,\n",
       " <a alog-group=\"p_author\" class=\"p_author_name j_user_card\" data-field='{\"un\":\"wenzimu9851\",\"id\":\"tb.1.7738cde7.tT18HFZFUl4FQSeUOl8AUg\"}' href=\"/home/main?un=wenzimu9851&amp;ie=utf-8&amp;id=tb.1.7738cde7.tT18HFZFUl4FQSeUOl8AUg&amp;fr=pb&amp;ie=utf-8\" target=\"_blank\">wenzimu9851</a>,\n",
       " <a alog-group=\"p_author\" class=\"p_author_name j_user_card\" data-field='{\"un\":\"\\u7075\\u6b87\\u67ab\\u5b87\\u6d1b\\u7075\",\"id\":\"tb.1.8778e679.cmt9IzQLS2KLnNPtw0X4Zg\"}' href=\"/home/main?un=%E7%81%B5%E6%AE%87%E6%9E%AB%E5%AE%87%E6%B4%9B%E7%81%B5&amp;ie=utf-8&amp;id=tb.1.8778e679.cmt9IzQLS2KLnNPtw0X4Zg&amp;fr=pb&amp;ie=utf-8\" target=\"_blank\">灵殇枫宇洛灵</a>,\n",
       " <a alog-group=\"p_author\" class=\"p_author_name j_user_card\" data-field='{\"un\":\"heart\\u98ce\\u8d77\\u4e91\\u843d\",\"id\":\"tb.1.7bb2cc3d.F8VjJOJgtmM6CRZf3nkk4Q\"}' href=\"/home/main?un=heart%E9%A3%8E%E8%B5%B7%E4%BA%91%E8%90%BD&amp;ie=utf-8&amp;id=tb.1.7bb2cc3d.F8VjJOJgtmM6CRZf3nkk4Q&amp;fr=pb&amp;ie=utf-8\" target=\"_blank\">heart风起云落</a>,\n",
       " <a alog-group=\"p_author\" class=\"p_author_name j_user_card\" data-field='{\"un\":null,\"id\":\"tb.1.5ef6b493.uuzglopvz6o33YNCRTv9VA\"}' href=\"/home/main?un=&amp;ie=utf-8&amp;id=tb.1.5ef6b493.uuzglopvz6o33YNCRTv9VA&amp;fr=pb&amp;ie=utf-8\" target=\"_blank\">剑圣<img class=\"nicknameEmoji\" src=\"//tb1.bdstatic.com/tb/cms/nickemoji/3-23.png\" style=\"width:13px;height:13px\"/>约书亚</a>,\n",
       " <a alog-group=\"p_author\" class=\"p_author_name j_user_card\" data-field='{\"un\":\"wsnbnbnb1\",\"id\":\"tb.1.e59c65fd.YQrxZ7R9u0w352R7veEEJw\"}' href=\"/home/main?un=wsnbnbnb1&amp;ie=utf-8&amp;id=tb.1.e59c65fd.YQrxZ7R9u0w352R7veEEJw&amp;fr=pb&amp;ie=utf-8\" target=\"_blank\">wsnbnbnb1</a>,\n",
       " <a alog-group=\"p_author\" class=\"p_author_name j_user_card\" data-field='{\"un\":\"yiwenlalala\",\"id\":\"tb.1.bfc7e002.9yu6VGQiXjaSe5vTbsd2jg\"}' href=\"/home/main?un=yiwenlalala&amp;ie=utf-8&amp;id=tb.1.bfc7e002.9yu6VGQiXjaSe5vTbsd2jg&amp;fr=pb&amp;ie=utf-8\" target=\"_blank\">yiwenlalala</a>]"
      ]
     },
     "execution_count": 76,
     "metadata": {},
     "output_type": "execute_result"
    }
   ],
   "source": [
    "soup.find_all('a','p_author_name j_user_card')"
   ]
  },
  {
   "cell_type": "code",
   "execution_count": 79,
   "metadata": {},
   "outputs": [
    {
     "data": {
      "text/plain": [
       "'花田嚟'"
      ]
     },
     "execution_count": 79,
     "metadata": {},
     "output_type": "execute_result"
    }
   ],
   "source": [
    "div[1].find('a', 'p_author_name').string"
   ]
  }
 ],
 "metadata": {
  "file_extension": ".py",
  "kernelspec": {
   "display_name": "Python 3",
   "language": "python",
   "name": "python3"
  },
  "language_info": {
   "codemirror_mode": {
    "name": "ipython",
    "version": 3
   },
   "file_extension": ".py",
   "mimetype": "text/x-python",
   "name": "python",
   "nbconvert_exporter": "python",
   "pygments_lexer": "ipython3",
   "version": "3.7.4"
  },
  "mimetype": "text/x-python",
  "name": "python",
  "npconvert_exporter": "python",
  "pygments_lexer": "ipython3",
  "version": 3
 },
 "nbformat": 4,
 "nbformat_minor": 2
}
